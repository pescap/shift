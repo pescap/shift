{
 "cells": [
  {
   "cell_type": "markdown",
   "metadata": {},
   "source": [
    "# GUI for Shift regularity theorems\n",
    "\n",
    "This code provides an user-friendly GUI to obtain the regularity for several quantities function to input parameters"
   ]
  },
  {
   "cell_type": "code",
   "execution_count": 11,
   "metadata": {},
   "outputs": [],
   "source": [
    "import ipywidgets as widgets \n",
    "import numpy as np\n",
    "import plotly \n",
    "\n",
    "class Problem():\n",
    "    def __init__(self):\n",
    "        self.r = None\n",
    "        self.q = None\n",
    "        self.k = None\n",
    "        self.beta = None\n",
    "    \n",
    "    \n",
    "myProblem = Problem()\n",
    "\n",
    "\n",
    "bar00b = widgets.BoundedIntText(\n",
    "    value=1,\n",
    "    min = 0,\n",
    "    description=r'$\\beta$: ',\n",
    "    disabled=False\n",
    ")\n",
    "\n",
    "bar000 = widgets.BoundedIntText(\n",
    "    value=1,\n",
    "    min = 0,\n",
    "    description='r: ',\n",
    "    disabled=False\n",
    ")\n",
    "bar001 = widgets.BoundedFloatText(\n",
    "    value=2.5,\n",
    "    min = 0,\n",
    "    description='q: ',\n",
    "    disabled=False\n",
    ")\n",
    "\n",
    "\n",
    "#bar000.style.description_width='60%'\n",
    "#bar001.style.description_width='60%'\n",
    "#bar002.style.description_width='60%'\n",
    "\n",
    "bar000.layout.width = '75%'\n",
    "bar001.layout.width = '75%'\n",
    "\n",
    "bar00 = widgets.VBox([bar00b, bar000, bar001])\n",
    "\n",
    "\n",
    "beta = bar00.children[0].value\n",
    "r = bar00.children[1].value\n",
    "q = bar00.children[2].value\n",
    "\n",
    "myProblem.beta = beta\n",
    "myProblem.r = r\n",
    "myProblem.q = q\n",
    "\n",
    "def main(myProblem):\n",
    "    beta, r, q = myProblem.beta, myProblem.r, myProblem.q\n",
    "    \n",
    "    U = np.min([q, r + 1/2.]) + 1    \n",
    "    values = U\n",
    "    return values\n",
    "\n",
    "U = main(myProblem)\n",
    "\n",
    "\n",
    "bar100 = widgets.BoundedFloatText(\n",
    "    value=U,\n",
    "    min = 0,\n",
    "    description=r'$\\text{U}$: ',\n",
    "    disabled=True\n",
    ")\n",
    "\n",
    "def on_value_change_000(change):\n",
    "    myProblem.beta = bar.children[0].children[0].value\n",
    "    U  = main(myProblem)\n",
    "    \n",
    "    bar.children[1].children[0].value = U\n",
    "\n",
    "def on_value_change_001(change):\n",
    "    myProblem.r = bar.children[0].children[0].value\n",
    "    U  = main(myProblem)\n",
    "    bar.children[1].children[0].value = U\n",
    "\n",
    "def on_value_change_002(change):\n",
    "    myProblem.q = bar.children[0].children[2].value\n",
    "    U  = main(myProblem)\n",
    "    \n",
    "    bar.children[1].children[0].value = U\n",
    "\n",
    "bar100.layout.width = '75%'\n",
    "\n",
    "bar10 = widgets.VBox([bar100])\n",
    "\n",
    "bar = widgets.Box([bar00, bar10])\n",
    "\n",
    "bar.children[0].children[0].observe(on_value_change_000, names='value')\n",
    "bar.children[0].children[1].observe(on_value_change_001, names='value')\n",
    "bar.children[0].children[2].observe(on_value_change_002, names='value')\n",
    "#bar.children[0].children[2].observe(on_value_change_003, names='value')"
   ]
  },
  {
   "cell_type": "markdown",
   "metadata": {},
   "source": [
    "# Shape calculus for Acoustic Scattering \n",
    "\n",
    "Domain of class $C^{r,1}$ for $r\\in \\mathbb{N}_0$.\n",
    "\n",
    "Set data $\\text{U}^\\text{inc}\\in \\mathcal{H}^{q+1}(\\mathcal{D})$ for $q\\geq 0$.\n",
    "\n",
    "Therefore, the solution:\n",
    "\n",
    "$\\text{U} \\in \\mathcal{H}^{s+1}(\\mathcal{D})$ with $s:=\\min(1,r+1/2)$.\n"
   ]
  },
  {
   "cell_type": "code",
   "execution_count": 12,
   "metadata": {},
   "outputs": [
    {
     "data": {
      "application/vnd.jupyter.widget-view+json": {
       "model_id": "c6c1551dc56d4bc594027633fdc83075",
       "version_major": 2,
       "version_minor": 0
      },
      "text/plain": [
       "Box(children=(VBox(children=(BoundedIntText(value=1, description='$\\\\beta$: '), BoundedIntText(value=1, descri…"
      ]
     },
     "metadata": {},
     "output_type": "display_data"
    }
   ],
   "source": [
    "bar"
   ]
  }
 ],
 "metadata": {
  "kernelspec": {
   "display_name": "Python 3",
   "language": "python",
   "name": "python3"
  },
  "language_info": {
   "codemirror_mode": {
    "name": "ipython",
    "version": 3
   },
   "file_extension": ".py",
   "mimetype": "text/x-python",
   "name": "python",
   "nbconvert_exporter": "python",
   "pygments_lexer": "ipython3",
   "version": "3.7.8"
  }
 },
 "nbformat": 4,
 "nbformat_minor": 2
}
